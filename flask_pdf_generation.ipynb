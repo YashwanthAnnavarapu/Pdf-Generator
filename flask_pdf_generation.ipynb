{
 "cells": [
  {
   "cell_type": "code",
   "execution_count": 16,
   "id": "a94ab58a-ef7b-47b6-96a0-f41fda5c045c",
   "metadata": {},
   "outputs": [
    {
     "name": "stdout",
     "output_type": "stream",
     "text": [
      " * Serving Flask app '__main__' (lazy loading)\n",
      " * Environment: production\n",
      "\u001b[31m   WARNING: This is a development server. Do not use it in a production deployment.\u001b[0m\n",
      "\u001b[2m   Use a production WSGI server instead.\u001b[0m\n",
      " * Debug mode: off\n"
     ]
    },
    {
     "name": "stderr",
     "output_type": "stream",
     "text": [
      " * Running on http://127.0.0.1:5000/ (Press CTRL+C to quit)\n",
      "127.0.0.1 - - [24/Mar/2022 15:53:23] \"POST /generatePdf HTTP/1.1\" 200 -\n"
     ]
    }
   ],
   "source": [
    "from flask import Flask, make_response, Response, request\n",
    "import pdfkit as pdf\n",
    "import pandas as pd\n",
    "\n",
    "app = Flask(__name__)\n",
    "\n",
    "@app.route(\"/generatePdf\",methods=['POST','GET'])\n",
    "def generatePdf():\n",
    "    # print(request.json)\n",
    "    #request.json is used to access the json data sent with the api or url\n",
    "    df = pd.DataFrame(request.json)\n",
    "    df.to_html(\"sample.html\",border=1,sparsify=False,justify=\"center\",max_cols=len(list(df.columns)),show_dimensions=True,)\n",
    "\n",
    "    path = b\".\\wkhtmltopdf\\\\bin\\wkhtmltopdf.exe\"\n",
    "    config = pdf.configuration(wkhtmltopdf=path)\n",
    "    options = {\n",
    "        'page-size': 'B0',\n",
    "        'margin-top': '0.75in',\n",
    "        'margin-right': '0.75in',\n",
    "        'margin-bottom': '0.75in',\n",
    "        'margin-left': '0.75in',\n",
    "        'encoding': \"UTF-8\",\n",
    "        'no-outline': None,\n",
    "        # 'disable-smart-shrinking': False,\n",
    "        # 'scale-size' : 40,\n",
    "    }\n",
    "    \n",
    "    # creating pdf\n",
    "    finalPdf = pdf.from_url(url=\"sample.html\",configuration=config,options=options)\n",
    "    \n",
    "    response = make_response(finalPdf)\n",
    "    response.headers['Content-Type'] = 'application/pdf'\n",
    "    response.headers['Content-Disposition'] = 'attachment; filename=sample.pdf'\n",
    "    return response\n",
    "\n",
    "if __name__ == '__main__':\n",
    "   app.run()"
   ]
  },
  {
   "cell_type": "code",
   "execution_count": null,
   "id": "77ddb732-c10f-4914-be3b-0cb048ad1199",
   "metadata": {},
   "outputs": [],
   "source": []
  }
 ],
 "metadata": {
  "kernelspec": {
   "display_name": "Python 3",
   "language": "python",
   "name": "python3"
  },
  "language_info": {
   "codemirror_mode": {
    "name": "ipython",
    "version": 3
   },
   "file_extension": ".py",
   "mimetype": "text/x-python",
   "name": "python",
   "nbconvert_exporter": "python",
   "pygments_lexer": "ipython3",
   "version": "3.9.5"
  }
 },
 "nbformat": 4,
 "nbformat_minor": 5
}
